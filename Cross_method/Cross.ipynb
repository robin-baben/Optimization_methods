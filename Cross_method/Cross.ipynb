{
 "cells": [
  {
   "cell_type": "code",
   "execution_count": 1,
   "id": "7d481e04",
   "metadata": {},
   "outputs": [],
   "source": [
    "import numpy as np\n",
    "import math\n",
    "from random import randint"
   ]
  },
  {
   "cell_type": "markdown",
   "id": "044edce1",
   "metadata": {},
   "source": [
    "Реализация крестового метода:"
   ]
  },
  {
   "cell_type": "code",
   "execution_count": 9,
   "id": "e19b8f1b",
   "metadata": {},
   "outputs": [],
   "source": [
    "def crest(A, eps):\n",
    "    m, n = A.shape\n",
    "    I = np.ones(m, dtype=int)\n",
    "    J = np.ones(n, dtype=int)\n",
    "    r = 1\n",
    "    \n",
    "    j = randint(0, n)\n",
    "    \n",
    "    \n",
    "    \n",
    "    i = np.argmax(abs(A[:,j]))\n",
    "    U = A[:,j].reshape(m, 1) / math.sqrt(abs(A[i][j]))\n",
    "    V = A[i,:].reshape(1,n) * math.sqrt(abs(A[i][j])) / A[i][j]\n",
    "    \n",
    "    I[i] = 0\n",
    "    J[j] = 0\n",
    "    \n",
    "    j = np.argmax(abs(A[i,:] * J))\n",
    "    \n",
    "    norm_f = np.linalg.norm(U) * np.linalg.norm(V)\n",
    "    \n",
    "    \n",
    "    while True:\n",
    "        r += 1\n",
    "        A_vawe_j = A[:,j] - U @ (V[:,j])\n",
    "        \n",
    "        i = np.argmax(abs(A_vawe_j) * I)\n",
    "        \n",
    "        A_vawe_i = A[i,:] - U[i] @ V\n",
    "        \n",
    "        if (abs(A_vawe_i[j]) * math.sqrt((m-r) * (n-r)) < eps * norm_f) or r==min(m,n):\n",
    "            r -= 1\n",
    "            break\n",
    "        \n",
    "        u = A_vawe_j / math.sqrt(abs(A_vawe_j[i]))\n",
    "        v = A_vawe_i * math.sqrt(abs(A_vawe_j[i])) / A_vawe_j[i]\n",
    "        \n",
    "        s = np.dot(U.T @ u, V @ v.T)\n",
    "        \n",
    "        norm_f = math.sqrt(norm_f ** 2 + (np.linalg.norm(u) * np.linalg.norm(v))**2 + s * 2)\n",
    "        \n",
    "        U = np.hstack((U, u.reshape(m,1)))\n",
    "        V = np.vstack((V, v))\n",
    "\n",
    "        I[i] = 0\n",
    "        J[j] = 0\n",
    "        \n",
    "        j = np.argmax(abs(A_vawe_i) * J)\n",
    "    \n",
    "    return (U, V, r)"
   ]
  },
  {
   "cell_type": "markdown",
   "id": "0b4dc290",
   "metadata": {},
   "source": [
    "### Матрица гильберта"
   ]
  },
  {
   "cell_type": "code",
   "execution_count": 3,
   "id": "912cb7e4",
   "metadata": {},
   "outputs": [],
   "source": [
    "def A(i, j):\n",
    "    return 1.0/(i+j+1)"
   ]
  },
  {
   "cell_type": "code",
   "execution_count": 4,
   "id": "95230467",
   "metadata": {},
   "outputs": [],
   "source": [
    "M = 1024 # number of rows\n",
    "N = 1500 # number of columns\n",
    "x = np.linspace(1,N,N) # grid for drawings\n",
    "r = 20 # target rank\n",
    "# fill the matrix Ma\n",
    "Ma=np.fromfunction(A, [M, N])"
   ]
  },
  {
   "cell_type": "code",
   "execution_count": 6,
   "id": "12df08d8",
   "metadata": {},
   "outputs": [],
   "source": [
    "U, V, r = crest(Ma, 1e-5)"
   ]
  },
  {
   "cell_type": "code",
   "execution_count": 7,
   "id": "bc91ca9b",
   "metadata": {},
   "outputs": [
    {
     "data": {
      "text/plain": [
       "11"
      ]
     },
     "execution_count": 7,
     "metadata": {},
     "output_type": "execute_result"
    }
   ],
   "source": [
    "r"
   ]
  },
  {
   "cell_type": "code",
   "execution_count": 8,
   "id": "48d7d9e2",
   "metadata": {},
   "outputs": [
    {
     "data": {
      "text/plain": [
       "7.313595850569189e-05"
      ]
     },
     "execution_count": 8,
     "metadata": {},
     "output_type": "execute_result"
    }
   ],
   "source": [
    "np.linalg.norm(Ma - U @ V)"
   ]
  },
  {
   "cell_type": "code",
   "execution_count": 9,
   "id": "0dac7ccd",
   "metadata": {},
   "outputs": [
    {
     "data": {
      "text/plain": [
       "11"
      ]
     },
     "execution_count": 9,
     "metadata": {},
     "output_type": "execute_result"
    }
   ],
   "source": [
    "np.linalg.matrix_rank(U @ V)"
   ]
  },
  {
   "cell_type": "markdown",
   "id": "ad9fcfb7",
   "metadata": {},
   "source": [
    "Задаем функцию вычисляющую элементы матрицы"
   ]
  },
  {
   "cell_type": "code",
   "execution_count": 10,
   "id": "6c7876e4",
   "metadata": {},
   "outputs": [],
   "source": [
    "def A1(i, j):\n",
    "    return ((i+1) ** (1/3)) * ((j+1) ** (-1/3)) + ((i+1) ** (-1/3)) * ((j+1) ** (1/3))"
   ]
  },
  {
   "cell_type": "markdown",
   "id": "fa9c9230",
   "metadata": {},
   "source": [
    "Задаем матрицу"
   ]
  },
  {
   "cell_type": "code",
   "execution_count": 11,
   "id": "c41d2c7f",
   "metadata": {},
   "outputs": [
    {
     "data": {
      "text/plain": [
       "(8192, 8192)"
      ]
     },
     "execution_count": 11,
     "metadata": {},
     "output_type": "execute_result"
    }
   ],
   "source": [
    "M = 8192 # number of rows\n",
    "N = 8192 # number of columns\n",
    "x = np.linspace(1,N,N) # grid for drawings\n",
    "r = 2 # target rank\n",
    "# fill the matrix Ma\n",
    "Ma1=np.fromfunction(A1, [M, N])\n",
    "Ma1.shape"
   ]
  },
  {
   "cell_type": "code",
   "execution_count": 12,
   "id": "7dc6dbbf",
   "metadata": {},
   "outputs": [],
   "source": [
    "from sklearn.utils.extmath import randomized_svd as rsvd\n",
    "import time"
   ]
  },
  {
   "cell_type": "markdown",
   "id": "a0062d81",
   "metadata": {},
   "source": [
    "Сравнение времени работы"
   ]
  },
  {
   "cell_type": "code",
   "execution_count": 16,
   "id": "030071d2",
   "metadata": {},
   "outputs": [
    {
     "name": "stdout",
     "output_type": "stream",
     "text": [
      "Classical  166.96399116516113  sec\n"
     ]
    }
   ],
   "source": [
    "start = time.time()\n",
    "U, s, V = np.linalg.svd(Ma1)\n",
    "print(\"Classical \", time.time() - start, \" sec\")"
   ]
  },
  {
   "cell_type": "code",
   "execution_count": 16,
   "id": "507f0903",
   "metadata": {},
   "outputs": [
    {
     "name": "stdout",
     "output_type": "stream",
     "text": [
      "Randomized  1.7319884300231934  sec\n"
     ]
    }
   ],
   "source": [
    "start = time.time()\n",
    "Ur, sr, Vr = rsvd(Ma1, n_components=r, random_state=np.random.randint(1))\n",
    "print(\"Randomized \", time.time() - start, \" sec\")"
   ]
  },
  {
   "cell_type": "code",
   "execution_count": 15,
   "id": "87e0b1be",
   "metadata": {},
   "outputs": [
    {
     "name": "stdout",
     "output_type": "stream",
     "text": [
      "Crest  0.004000186920166016  sec\n"
     ]
    }
   ],
   "source": [
    "start = time.time()\n",
    "U_crest, V_crest, r_crest = crest(Ma1, 1e-10)\n",
    "print(\"Crest \", time.time() - start, \" sec\")"
   ]
  },
  {
   "cell_type": "markdown",
   "id": "0d7831fc",
   "metadata": {},
   "source": [
    "зависимость ранга относительно критерия остановки для матрицы $A(i, j) = i^{1/3}j^{-1/3}+i^{-1/3}j^{1/3}$"
   ]
  },
  {
   "cell_type": "code",
   "execution_count": 18,
   "id": "ffb2956e",
   "metadata": {},
   "outputs": [
    {
     "name": "stdout",
     "output_type": "stream",
     "text": [
      "2\n",
      "2\n",
      "2\n"
     ]
    }
   ],
   "source": [
    "epsilons = [1e-3, 1e-4, 1e-5]\n",
    "for eps in epsilons:\n",
    "    U_c, V_c, r_c = crest(M, N, Ma1, eps)\n",
    "    print(r_c)"
   ]
  },
  {
   "cell_type": "markdown",
   "id": "f0b420cd",
   "metadata": {},
   "source": [
    "Реализация усеченного SVD с адаптацией ранга по значению целевой точности прибилжения $\\varepsilon$"
   ]
  },
  {
   "cell_type": "code",
   "execution_count": 10,
   "id": "7db2fdf9",
   "metadata": {},
   "outputs": [],
   "source": [
    "def truncated_svd(A, eps):\n",
    "    U, V, r = crest(A, eps)\n",
    "    \n",
    "    U1, s1, V1 = np.linalg.svd(U, full_matrices=False)\n",
    "    U2, s2, V2 = np.linalg.svd(V, full_matrices=False)\n",
    "    G = np.diag(s1) @ V1 @ U2 @ np.diag(s2)\n",
    "\n",
    "    Ug, sg, Vg = np.linalg.svd(G)\n",
    "    \n",
    "    return(U1 @ Ug, sg, Vg @ V2)"
   ]
  },
  {
   "cell_type": "code",
   "execution_count": 8,
   "id": "270b1f1f",
   "metadata": {},
   "outputs": [],
   "source": [
    "U_t, s_t, V_t = truncated_svd(Ma, 1e-5)"
   ]
  },
  {
   "cell_type": "code",
   "execution_count": 9,
   "id": "55b4ba36",
   "metadata": {},
   "outputs": [
    {
     "data": {
      "text/plain": [
       "6.202931593363492e-07"
      ]
     },
     "execution_count": 9,
     "metadata": {},
     "output_type": "execute_result"
    }
   ],
   "source": [
    "np.linalg.norm(Ma - U_t @ np.diag(s_t) @ V_t)"
   ]
  },
  {
   "cell_type": "markdown",
   "id": "a3acdb0e",
   "metadata": {},
   "source": [
    "Сжатие черно-белого изображения"
   ]
  },
  {
   "cell_type": "code",
   "execution_count": 2,
   "id": "8a437e3e",
   "metadata": {},
   "outputs": [],
   "source": [
    "from PIL import Image"
   ]
  },
  {
   "cell_type": "code",
   "execution_count": 16,
   "id": "f6ce5465",
   "metadata": {},
   "outputs": [],
   "source": [
    "im = Image.open('jaguar.jpg')"
   ]
  },
  {
   "cell_type": "code",
   "execution_count": 17,
   "id": "ab2d37b7",
   "metadata": {},
   "outputs": [],
   "source": [
    "im  = im.convert('L') # делаем черно-белым\n",
    "pixels = np.asarray(im)"
   ]
  },
  {
   "cell_type": "code",
   "execution_count": 18,
   "id": "57dc3332",
   "metadata": {},
   "outputs": [
    {
     "name": "stdout",
     "output_type": "stream",
     "text": [
      "rank =  1160\n",
      "rank =  1160\n",
      "rank =  1160\n",
      "rank =  990\n",
      "rank =  948\n"
     ]
    }
   ],
   "source": [
    "for i in range(5, 0, -1):\n",
    "    pix_U_t, pix_s_t, pix_V_t = truncated_svd(pixels, 10 ** (-i))\n",
    "    print(\"rank = \", pix_U_t.shape[1])\n",
    "    truncated_pixels = pix_U_t @ np.diag(pix_s_t) @ pix_V_t\n",
    "    result = truncated_pixels.astype(np.uint8)\n",
    "    data = Image.fromarray(result, 'L')\n",
    "    data.save(f'compressed_imgs/jaguar_10-{i}.jpg')"
   ]
  },
  {
   "cell_type": "markdown",
   "id": "02899855",
   "metadata": {},
   "source": [
    "### Real Rank"
   ]
  },
  {
   "cell_type": "code",
   "execution_count": 19,
   "id": "576d9072",
   "metadata": {},
   "outputs": [
    {
     "data": {
      "text/plain": [
       "1160"
      ]
     },
     "execution_count": 19,
     "metadata": {},
     "output_type": "execute_result"
    }
   ],
   "source": [
    "np.linalg.matrix_rank(pixels)"
   ]
  },
  {
   "cell_type": "markdown",
   "id": "8b3397af",
   "metadata": {},
   "source": []
  }
 ],
 "metadata": {
  "kernelspec": {
   "display_name": "Python 3 (ipykernel)",
   "language": "python",
   "name": "python3"
  },
  "language_info": {
   "codemirror_mode": {
    "name": "ipython",
    "version": 3
   },
   "file_extension": ".py",
   "mimetype": "text/x-python",
   "name": "python",
   "nbconvert_exporter": "python",
   "pygments_lexer": "ipython3",
   "version": "3.12.2"
  }
 },
 "nbformat": 4,
 "nbformat_minor": 5
}
