{
 "cells": [
  {
   "cell_type": "code",
   "execution_count": 1,
   "id": "353a97af",
   "metadata": {},
   "outputs": [],
   "source": [
    "from sklearn.utils.extmath import randomized_svd as rsvd\n",
    "import time\n",
    "import numpy as np\n",
    "import math\n",
    "from random import randint"
   ]
  },
  {
   "cell_type": "code",
   "execution_count": 15,
   "id": "85c22591",
   "metadata": {},
   "outputs": [],
   "source": [
    "def effective_matmul(Ur, sr, Vr, x):\n",
    "    return np.matmul(Ur, sr * np.matmul(Vr, x))"
   ]
  },
  {
   "cell_type": "code",
   "execution_count": 3,
   "id": "5ce7d4b2",
   "metadata": {},
   "outputs": [],
   "source": [
    "def A(i, j):\n",
    "    return 1.0/(i+j+1)"
   ]
  },
  {
   "cell_type": "code",
   "execution_count": 4,
   "id": "0021a5d2",
   "metadata": {},
   "outputs": [],
   "source": [
    "M = 10240 # number of rows\n",
    "N = 15000 # number of columns\n",
    "r = 20 # target rank\n",
    "# fill the matrix Ma\n",
    "Ma=np.fromfunction(A, [M, N])"
   ]
  },
  {
   "cell_type": "code",
   "execution_count": 5,
   "id": "a3e73b30",
   "metadata": {},
   "outputs": [],
   "source": [
    "x = np.random.randn(N)"
   ]
  },
  {
   "cell_type": "code",
   "execution_count": 6,
   "id": "1f17dc6a",
   "metadata": {},
   "outputs": [
    {
     "name": "stdout",
     "output_type": "stream",
     "text": [
      "Classical  0.15132808685302734  sec\n"
     ]
    }
   ],
   "source": [
    "start = time.time()\n",
    "x1 = np.matmul(Ma, x)\n",
    "print(\"Classical \", time.time() - start, \" sec\")"
   ]
  },
  {
   "cell_type": "code",
   "execution_count": 7,
   "id": "c291a778",
   "metadata": {},
   "outputs": [],
   "source": [
    "Ur, sr, Vr = rsvd(Ma, n_components=r, random_state=np.random.randint(1))"
   ]
  },
  {
   "cell_type": "code",
   "execution_count": 16,
   "id": "95124b92",
   "metadata": {},
   "outputs": [
    {
     "name": "stdout",
     "output_type": "stream",
     "text": [
      "Effective  0.0018284320831298828  sec\n"
     ]
    }
   ],
   "source": [
    "start = time.time()\n",
    "x2 = effective_matmul(Ur, sr, Vr, x)\n",
    "print(\"Effective \", time.time() - start, \" sec\")"
   ]
  },
  {
   "cell_type": "code",
   "execution_count": 17,
   "id": "7606fa82",
   "metadata": {},
   "outputs": [
    {
     "data": {
      "text/plain": [
       "7.464131110131146e-08"
      ]
     },
     "execution_count": 17,
     "metadata": {},
     "output_type": "execute_result"
    }
   ],
   "source": [
    "np.linalg.norm(x1-x2)"
   ]
  }
 ],
 "metadata": {
  "kernelspec": {
   "display_name": "Python 3 (ipykernel)",
   "language": "python",
   "name": "python3"
  },
  "language_info": {
   "codemirror_mode": {
    "name": "ipython",
    "version": 3
   },
   "file_extension": ".py",
   "mimetype": "text/x-python",
   "name": "python",
   "nbconvert_exporter": "python",
   "pygments_lexer": "ipython3",
   "version": "3.12.2"
  }
 },
 "nbformat": 4,
 "nbformat_minor": 5
}
