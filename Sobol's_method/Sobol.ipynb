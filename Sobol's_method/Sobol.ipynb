{
 "cells": [
  {
   "cell_type": "code",
   "execution_count": 8,
   "id": "b2bc5c1b",
   "metadata": {},
   "outputs": [],
   "source": [
    "from SALib.analyze.sobol import analyze\n",
    "from SALib.sample.sobol import sample\n",
    "from math import *\n",
    "import numpy as np"
   ]
  },
  {
   "cell_type": "code",
   "execution_count": 9,
   "id": "ee251d18",
   "metadata": {},
   "outputs": [],
   "source": [
    "a = 0.0001\n",
    "b = 0.3\n",
    "# target function\n",
    "def f(x):\n",
    "    return x[0] + 0.01 * x[1] + sin(x[0]+x[2])\n",
    "\n",
    "# problem description structure\n",
    "problem = {\n",
    "    'num_vars': 3,\n",
    "    'names': [ 'x1', 'x2', 'x3'],\n",
    "    'bounds': [[ -pi, pi],\n",
    "                [ -pi, pi],\n",
    "                [ -pi, pi]]\n",
    "}"
   ]
  },
  {
   "cell_type": "code",
   "execution_count": 17,
   "id": "e3ba975f",
   "metadata": {},
   "outputs": [],
   "source": [
    "# number of samples for Monte Carlo integration\n",
    "N = 32768"
   ]
  },
  {
   "cell_type": "code",
   "execution_count": 21,
   "id": "eaa13e3b",
   "metadata": {},
   "outputs": [
    {
     "name": "stdout",
     "output_type": "stream",
     "text": [
      "N = 32768\n",
      "First order indices: [8.67966420e-01 8.67982073e-05 2.89655666e-06]\n",
      "Total sensitivity indices: [9.99912752e-01 8.67993580e-05 1.31913607e-01]\n",
      "x1-x2: 3.1622525137130574e-05\n",
      "x1-x3: 0.13194234253140819\n",
      "x2-x3: -3.6578543140347837e-09\n",
      "----------------------------------------\n",
      "\n",
      "N = 65536\n",
      "First order indices: [ 8.67993297e-01  8.68303317e-05 -1.90927755e-06]\n",
      "Total sensitivity indices: [9.99912434e-01 8.67993812e-05 1.31920418e-01]\n",
      "x1-x2: -1.1946085086620946e-06\n",
      "x1-x3: 0.13192144004143136\n",
      "x2-x3: -3.18388576327913e-08\n",
      "----------------------------------------\n",
      "\n",
      "N = 131072\n",
      "First order indices: [ 8.67994229e-01  8.68047579e-05 -2.03040586e-06]\n",
      "Total sensitivity indices: [9.99908157e-01 8.67989818e-05 1.31920114e-01]\n",
      "x1-x2: -5.898068278601309e-06\n",
      "x1-x3: 0.13191627344269363\n",
      "x2-x3: -3.326388267424439e-09\n",
      "----------------------------------------\n",
      "\n"
     ]
    }
   ],
   "source": [
    "for j in range(3):\n",
    "    param_values = sample(problem , N * (2 ** j))\n",
    "    print(\"N =\", N * (2 ** j))\n",
    "\n",
    "    # prepare the numpy array for the results\n",
    "    Y = np.zeros([param_values.shape[0]])\n",
    "\n",
    "    #evaluate the target function at the sample points\n",
    "    for i, X in enumerate(param_values):\n",
    "        Y[i] = f(X)\n",
    "\n",
    "\n",
    "    # Call of the Sobol sensitivity analysis procedure\n",
    "\n",
    "    Si = analyze(problem , Y)\n",
    "    # first order indices\n",
    "    print(\"First order indices:\", Si['S1'])\n",
    "    # total sensitivity indices\n",
    "    print(\"Total sensitivity indices:\", Si['ST'])\n",
    "    # second order indices\n",
    "    print( \"x1-x2:\", Si['S2'][0,1])\n",
    "    print( \"x1-x3:\", Si['S2'][0,2])\n",
    "    print( \"x2-x3:\", Si['S2'][1,2])\n",
    "\n",
    "    print(\"-\"*40+\"\\n\")"
   ]
  }
 ],
 "metadata": {
  "kernelspec": {
   "display_name": "Python 3 (ipykernel)",
   "language": "python",
   "name": "python3"
  },
  "language_info": {
   "codemirror_mode": {
    "name": "ipython",
    "version": 3
   },
   "file_extension": ".py",
   "mimetype": "text/x-python",
   "name": "python",
   "nbconvert_exporter": "python",
   "pygments_lexer": "ipython3",
   "version": "3.12.2"
  }
 },
 "nbformat": 4,
 "nbformat_minor": 5
}
